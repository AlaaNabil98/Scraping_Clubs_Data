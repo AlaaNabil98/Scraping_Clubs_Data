{
 "cells": [
  {
   "cell_type": "code",
   "execution_count": 1,
   "id": "75f83bf2",
   "metadata": {},
   "outputs": [],
   "source": [
    "from selenium import webdriver\n",
    "from selenium.webdriver import Chrome, ChromeOptions\n",
    "from selenium.webdriver.common.desired_capabilities import DesiredCapabilities\n",
    "\n",
    "def get_local_safe_setup():\n",
    "    options = ChromeOptions() \n",
    "    options.add_argument(\"--disable-blink-features\")\n",
    "    options.add_argument(\"--disable-blink-features=AutomationControlled\")\n",
    "    options.add_argument(\"--disable-infobars\")\n",
    "    options.add_argument(\"--disable-popup-blocking\")\n",
    "    options.add_argument(\"--disable-notifications\")\n",
    "\n",
    "    driver = Chrome(desired_capabilities = options.to_capabilities())\n",
    "\n",
    "    return driver\n",
    "\n",
    "def get_safe_setup():\n",
    "    options = ChromeOptions() \n",
    "    options.add_argument(\"--disable-dev-shm-usage\") \n",
    "    options.add_argument(\"--disable-blink-features\")\n",
    "    options.add_argument(\"--disable-blink-features=AutomationControlled\")\n",
    "    options.add_argument(\"--disable-infobars\")\n",
    "    options.add_argument(\"--disable-popup-blocking\")\n",
    "    options.add_argument(\"--disable-notifications\")\n",
    "\n",
    "    driver = webdriver.Remote(\"http://127.0.0.1:4444/wd/hub\", desired_capabilities = options.to_capabilities())\n",
    "\n",
    "    return driver"
   ]
  },
  {
   "cell_type": "code",
   "execution_count": null,
   "id": "7cfd5dac",
   "metadata": {},
   "outputs": [],
   "source": []
  }
 ],
 "metadata": {
  "kernelspec": {
   "display_name": "Python 3 (ipykernel)",
   "language": "python",
   "name": "python3"
  },
  "language_info": {
   "codemirror_mode": {
    "name": "ipython",
    "version": 3
   },
   "file_extension": ".py",
   "mimetype": "text/x-python",
   "name": "python",
   "nbconvert_exporter": "python",
   "pygments_lexer": "ipython3",
   "version": "3.9.13"
  }
 },
 "nbformat": 4,
 "nbformat_minor": 5
}
